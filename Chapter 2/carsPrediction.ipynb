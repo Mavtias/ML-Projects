{
 "cells": [
  {
   "cell_type": "code",
   "execution_count": 1,
   "metadata": {},
   "outputs": [],
   "source": [
    "import pandas as pd\n",
    "import numpy as np\n",
    "\n",
    "from matplotlib import pyplot as plt \n",
    "import seaborn as sns\n",
    "\n",
    "\n",
    "df = pd.read_csv(\"data.csv\")"
   ]
  },
  {
   "cell_type": "code",
   "execution_count": 2,
   "metadata": {},
   "outputs": [],
   "source": [
    "#Preprocessing\n",
    "\n",
    "df.columns = df.columns.str.lower().str.replace(' ','_')\n",
    "#convertir a lista solo las columnas que tengan dtype == object\n",
    "string_columns = list(df.dtypes[df.dtypes =='object'].index)\n",
    "for col in string_columns:\n",
    "    #recorrer la lista creada y usar cada elemento para reemplazar su contenido por minusculas y los espacios por _\n",
    "    df[col] = df[col].str.lower().str.replace(' ', '_')"
   ]
  },
  {
   "cell_type": "code",
   "execution_count": 3,
   "metadata": {},
   "outputs": [],
   "source": [
    "base = ['engine_hp','engine_cylinders','highway_mpg', 'city_mpg', 'popularity']\n",
    "n = len(df)\n",
    "\n",
    "n_valid = int( 0.2 * n)\n",
    "n_test = int( 0.2 * n)\n",
    "\n",
    "n_train = n - (n_valid + n_test) \n",
    "\n",
    "np.random.seed(2)\n",
    "idx = np.arange(n)\n",
    "np.random.shuffle(idx)\n",
    "\n",
    "df_shuffled = df.iloc[idx]\n",
    "\n",
    "\"\"\"\n",
    "        definiendo los dataframes\n",
    "\"\"\"\n",
    "df_train = df_shuffled.iloc[:n_train].copy()\n",
    "df_valid = df_shuffled.iloc[n_train:n_train+n_valid].copy()\n",
    "df_test = df_shuffled.iloc[n_train+n_valid:].copy()\n",
    "\n",
    "\"\"\"\n",
    "        sacando target de cada uno\n",
    "\"\"\"\n",
    "y_train = np.log1p(df_train.msrp.values)\n",
    "y_valid = np.log1p(df_valid.msrp.values)\n",
    "y_test = np.log1p(df_test.msrp.values)\n",
    "del df_train['msrp']\n",
    "del df_valid['msrp']\n",
    "del df_test['msrp']\n",
    "\n",
    "\n",
    "\n",
    "\n"
   ]
  },
  {
   "cell_type": "code",
   "execution_count": 4,
   "metadata": {},
   "outputs": [],
   "source": [
    "\n",
    "\"\"\"\n",
    "Funcion para calcular rmse\n",
    "\"\"\"\n",
    "\n",
    "def rmse(y, y_pred):\n",
    "    error = y_pred - y\n",
    "    mse = (error ** 2).mean()\n",
    "    return np.sqrt(mse)\n",
    "\n",
    "\"\"\"\n",
    "funcion para linear regresion no regularizada\n",
    "\"\"\"\n",
    "def train_linear_regression(X,y):\n",
    "    #adding the dummy column\n",
    "    ones= np.ones(X.shape[0])\n",
    "    X = np.column_stack([ones,X])\n",
    "\n",
    "    #normal equation formula\n",
    "\n",
    "    XTX = X.T.dot(X)\n",
    "    XTX_inv = np.linalg.inv(XTX)\n",
    "    w = XTX_inv.dot(X.T).dot(y)\n",
    "\n",
    "    return w[0], w[1:]\n",
    "\n",
    "\"\"\"\n",
    "funcion para linear regression regularizada\n",
    "\"\"\"\n",
    "def train_linear_regression_reg(X, y, r=0.0):\n",
    "    ones = np.ones(X.shape[0])          \n",
    "    X = np.column_stack([ones, X])      \n",
    "\n",
    "    XTX = X.T.dot(X)                    \n",
    "    reg = r * np.eye(XTX.shape[0])      \n",
    "    XTX = XTX + reg                     \n",
    "\n",
    "    XTX_inv = np.linalg.inv(XTX)        \n",
    "    w = XTX_inv.dot(X.T).dot(y)         \n",
    "\n",
    "    return w[0], w[1:]\n",
    "\n",
    "\"\"\"\n",
    "Funcion para crear columnas categoricas en el DF\n",
    "\"\"\"\n",
    "\n",
    "def binary(df, column, n_values, features):\n",
    "    df_copy = df.copy()\n",
    "    for elem in df_copy[column].value_counts().head(n_values).index.tolist():\n",
    "        new_column_name = f'{column}_{elem}'\n",
    "        df[new_column_name] = (df_copy[column] == elem).astype(int)\n",
    "        features.append(new_column_name)\n",
    "    return df\n",
    "\n",
    "\n",
    "\"\"\"\n",
    "Funcion para preparar array X\n",
    "\"\"\"\n",
    "\n",
    "\n",
    "def prepare_X(df):   \n",
    "    df = df.copy()\n",
    "    features = base.copy()\n",
    "    \n",
    "    df['age'] = 2017 - df.year\n",
    "    features.append('age')          \n",
    "    \n",
    "    categorical_columns = ['number_of_doors','make', 'engine_fuel_type', 'transmission_type', 'driven_wheels',\n",
    "                            'market_category', 'vehicle_size', 'vehicle_style']\n",
    "    \n",
    "    for column in categorical_columns:\n",
    "        df = binary(df, column, 9, features)                                   \n",
    "\n",
    "    df_num = df[features]\n",
    "    df_num = df_num.fillna(0)\n",
    "    X = df_num.values\n",
    "    return X"
   ]
  },
  {
   "cell_type": "markdown",
   "metadata": {},
   "source": [
    "<h3>Testing the model"
   ]
  },
  {
   "cell_type": "code",
   "execution_count": 49,
   "metadata": {},
   "outputs": [],
   "source": [
    "X_train = prepare_X(df_train)"
   ]
  },
  {
   "cell_type": "code",
   "execution_count": 50,
   "metadata": {},
   "outputs": [],
   "source": [
    "w_0, w = train_linear_regression_reg(X_train, y_train, r= 0.01)"
   ]
  },
  {
   "cell_type": "code",
   "execution_count": 46,
   "metadata": {},
   "outputs": [],
   "source": [
    "X_valid = prepare_X(df_valid)"
   ]
  },
  {
   "cell_type": "code",
   "execution_count": 47,
   "metadata": {},
   "outputs": [],
   "source": [
    "y_pred = w_0 + X_valid.dot(w)"
   ]
  },
  {
   "cell_type": "code",
   "execution_count": 48,
   "metadata": {},
   "outputs": [
    {
     "name": "stdout",
     "output_type": "stream",
     "text": [
      "prediction:  0.4834399565307656\n"
     ]
    }
   ],
   "source": [
    "print('prediction: ', rmse(y_valid, y_pred))"
   ]
  },
  {
   "cell_type": "code",
   "execution_count": null,
   "metadata": {},
   "outputs": [],
   "source": []
  }
 ],
 "metadata": {
  "kernelspec": {
   "display_name": "Python 3",
   "language": "python",
   "name": "python3"
  },
  "language_info": {
   "codemirror_mode": {
    "name": "ipython",
    "version": 3
   },
   "file_extension": ".py",
   "mimetype": "text/x-python",
   "name": "python",
   "nbconvert_exporter": "python",
   "pygments_lexer": "ipython3",
   "version": "3.11.5"
  },
  "orig_nbformat": 4
 },
 "nbformat": 4,
 "nbformat_minor": 2
}
