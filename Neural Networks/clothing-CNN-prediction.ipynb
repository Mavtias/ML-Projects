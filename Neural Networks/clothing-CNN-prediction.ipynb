{
 "cells": [
  {
   "cell_type": "code",
   "execution_count": null,
   "metadata": {},
   "outputs": [],
   "source": [
    "import numpy as np\n",
    "import matplotlib.pyplot as plt\n",
    "\n",
    "import tensorflow as tf\n",
    "from tensorflow import keras"
   ]
  },
  {
   "cell_type": "code",
   "execution_count": null,
   "metadata": {},
   "outputs": [],
   "source": [
    "from tensorflow.keras.preprocessing.image import load_img, ImageDataGenerator\n",
    "#Importing the pre-trained model\n",
    "from tensorflow.keras.applications.xception import Xception, preprocess_input, decode_predictions                     # the actual model\n",
    " "
   ]
  },
  {
   "cell_type": "code",
   "execution_count": null,
   "metadata": {},
   "outputs": [],
   "source": []
  },
  {
   "cell_type": "code",
   "execution_count": null,
   "metadata": {},
   "outputs": [],
   "source": []
  },
  {
   "cell_type": "code",
   "execution_count": null,
   "metadata": {},
   "outputs": [],
   "source": [
    "#This final Model will be trained with larger size images so it can better recognize them. \n",
    "\n",
    "image_size = (299,299)\n",
    "batch_size = 32"
   ]
  },
  {
   "cell_type": "code",
   "execution_count": null,
   "metadata": {},
   "outputs": [],
   "source": [
    "train_gen = ImageDataGenerator(\n",
    "    shear_range = 10.0,\n",
    "    zoom_range = 0.2,\n",
    "    horizontal_flip = True,\n",
    "    preprocessig_function = preprocess_input\n",
    ")\n",
    "\n",
    "validation_gen = ImageDataGenerator(\n",
    "    preprocessing_function=preprocess_input\n",
    ")"
   ]
  },
  {
   "cell_type": "code",
   "execution_count": null,
   "metadata": {},
   "outputs": [],
   "source": [
    "train_ds = train_gen.flow_from_directory(\n",
    "    r\"C:\\Users\\oliva\\Documents\\GitHub\\ML-Projects\\Neural Networks\\clothing-dataset-small-master\\clothing-dataset-small-master\\train\",\n",
    "    target_size = image_size,\n",
    "    batch_size = batch_size    \n",
    ")"
   ]
  },
  {
   "cell_type": "code",
   "execution_count": null,
   "metadata": {},
   "outputs": [],
   "source": [
    "\n",
    "val_ds = validation_gen.flow_from_directory(\n",
    "    r\"C:\\Users\\oliva\\Documents\\GitHub\\ML-Projects\\Neural Networks\\clothing-dataset-small-master\\clothing-dataset-small-master\\validation\",\n",
    "    target_size = image_size,\n",
    "    batch_size = batch_size\n",
    ")"
   ]
  },
  {
   "cell_type": "code",
   "execution_count": null,
   "metadata": {},
   "outputs": [],
   "source": [
    "def make_model( learning_rate):\n",
    "    base_model = Xception(\n",
    "        weights = 'imagenet',\n",
    "        input_shape = (299,299,3),\n",
    "        include_top = False\n",
    "    )\n",
    "    \n",
    "    base_model.trainable = False\n",
    "    \n",
    "    inputs = keras.Input(shape=(299,299,3))\n",
    "    base = base_model(inputs, training = False)\n",
    "    vector = keras.layers.GlobalAveragePooling2D()(base)\n",
    "\n",
    "    inner = keras.layers.Dense(100, activation='relu')(vector)                                       \n",
    "    drop = keras.layers.Dropout(0.2)(inner)                                                                 \n",
    "    outputs = keras.layers.Dense(10)(drop)                                                           \n",
    "    model = keras.Model(inputs, outputs)\n",
    "\n",
    "    optimizer = keras.optimizers.Adam(learning_rate)\n",
    "    loss = keras.losses.CategoricalCrossentropy(from_logits=True)\n",
    "\n",
    "    model.compile(optimizer=optimizer,\n",
    "                loss= loss,\n",
    "                metrics = ['accuracy'])\n",
    "    return model"
   ]
  },
  {
   "cell_type": "code",
   "execution_count": null,
   "metadata": {},
   "outputs": [],
   "source": []
  },
  {
   "cell_type": "code",
   "execution_count": null,
   "metadata": {},
   "outputs": [],
   "source": []
  },
  {
   "cell_type": "code",
   "execution_count": null,
   "metadata": {},
   "outputs": [],
   "source": []
  },
  {
   "cell_type": "code",
   "execution_count": null,
   "metadata": {},
   "outputs": [],
   "source": []
  }
 ],
 "metadata": {
  "language_info": {
   "name": "python"
  },
  "orig_nbformat": 4
 },
 "nbformat": 4,
 "nbformat_minor": 2
}
